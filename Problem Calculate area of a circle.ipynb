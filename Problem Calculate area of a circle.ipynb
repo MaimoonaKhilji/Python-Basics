{
 "cells": [
  {
   "cell_type": "markdown",
   "id": "0ec069c8",
   "metadata": {},
   "source": [
    "## Calculate area of a circle?"
   ]
  },
  {
   "attachments": {
    "radius%20of%20a%20circle.png": {
     "image/png": "[encoded data removed]"
    }
   },
   "cell_type": "markdown",
   "id": "6c081fe8",
   "metadata": {},
   "source": [
    "![radius%20of%20a%20circle.png](attachment:radius%20of%20a%20circle.png)"
   ]
  },
  {
   "cell_type": "code",
   "execution_count": 96,
   "id": "19c8c1e9",
   "metadata": {},
   "outputs": [
    {
     "name": "stdout",
     "output_type": "stream",
     "text": [
      "Area of a circle is  78.5\n"
     ]
    }
   ],
   "source": [
    "# If you know the radius or the radius is already given then just put the values in a formula of Area of A circle that is:\n",
    "\n",
    "pi = 3.14 # Pi is constant \n",
    "radius = 5 #Assume radius is 5\n",
    "\n",
    "#then put all the values in a formula\n",
    "Area = pi * radius **2\n",
    "\n",
    "#print the result\n",
    "print(\"Area of a circle is \", Area)"
   ]
  },
  {
   "cell_type": "code",
   "execution_count": 98,
   "id": "04b62893",
   "metadata": {},
   "outputs": [
    {
     "name": "stdout",
     "output_type": "stream",
     "text": [
      "Enter the radius of a circle: 2\n",
      "Are of a circle is  12.56\n"
     ]
    }
   ],
   "source": [
    "#If you do not know the radius, then ask the user to enter the value.\n",
    "\n",
    "pi = 3.14 #constant\n",
    "radius = input (\"Enter the radius of a circle: \")\n",
    "\n",
    "#As input value is of string data type, so type cast it into integer . As we have to do calculations:\n",
    "\n",
    "radius = int(radius)\n",
    "\n",
    "Area = pi * radius ** 2\n",
    "\n",
    "#Print the result\n",
    "print(\"Are of a circle is \", Area)"
   ]
  },
  {
   "cell_type": "markdown",
   "id": "271502db",
   "metadata": {},
   "source": [
    "## THANK YOU!"
   ]
  },
  {
   "cell_type": "code",
   "execution_count": null,
   "id": "82dfe003",
   "metadata": {},
   "outputs": [],
   "source": []
  }
 ],
 "metadata": {
  "kernelspec": {
   "display_name": "Python 3",
   "language": "python",
   "name": "python3"
  },
  "language_info": {
   "codemirror_mode": {
    "name": "ipython",
    "version": 3
   },
   "file_extension": ".py",
   "mimetype": "text/x-python",
   "name": "python",
   "nbconvert_exporter": "python",
   "pygments_lexer": "ipython3",
   "version": "3.8.8"
  }
 },
 "nbformat": 4,
 "nbformat_minor": 5
}
