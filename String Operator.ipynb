{
 "cells": [
  {
   "cell_type": "markdown",
   "id": "b565f799",
   "metadata": {},
   "source": [
    "**+** : It is used for concatenation but somehow known as ineffiecient operator."
   ]
  },
  {
   "cell_type": "code",
   "execution_count": 1,
   "id": "344e47dd",
   "metadata": {},
   "outputs": [
    {
     "data": {
      "text/plain": [
       "'abcdef'"
      ]
     },
     "execution_count": 1,
     "metadata": {},
     "output_type": "execute_result"
    }
   ],
   "source": [
    "\"abc\"+\"def\""
   ]
  },
  {
   "cell_type": "markdown",
   "id": "946353ba",
   "metadata": {},
   "source": [
    "#### * : It is used to produce multiple copies of a string."
   ]
  },
  {
   "cell_type": "code",
   "execution_count": 2,
   "id": "1cbf117d",
   "metadata": {},
   "outputs": [
    {
     "data": {
      "text/plain": [
       "'aaa'"
      ]
     },
     "execution_count": 2,
     "metadata": {},
     "output_type": "execute_result"
    }
   ],
   "source": [
    "\"a\"*3"
   ]
  },
  {
   "cell_type": "markdown",
   "id": "e4d8d2d3",
   "metadata": {},
   "source": [
    "**Upper, Lower, Capitalize** : It is used to change the case of a string."
   ]
  },
  {
   "cell_type": "code",
   "execution_count": 3,
   "id": "e2f323f3",
   "metadata": {},
   "outputs": [
    {
     "data": {
      "text/plain": [
       "'APPLE'"
      ]
     },
     "execution_count": 3,
     "metadata": {},
     "output_type": "execute_result"
    }
   ],
   "source": [
    "var = \"apple\"\n",
    "var.upper()"
   ]
  },
  {
   "cell_type": "code",
   "execution_count": 5,
   "id": "a2d74ae2",
   "metadata": {},
   "outputs": [
    {
     "data": {
      "text/plain": [
       "'apple'"
      ]
     },
     "execution_count": 5,
     "metadata": {},
     "output_type": "execute_result"
    }
   ],
   "source": [
    "var.lower()"
   ]
  },
  {
   "cell_type": "code",
   "execution_count": 6,
   "id": "cbb08989",
   "metadata": {},
   "outputs": [
    {
     "data": {
      "text/plain": [
       "'Apple'"
      ]
     },
     "execution_count": 6,
     "metadata": {},
     "output_type": "execute_result"
    }
   ],
   "source": [
    "var.capitalize()"
   ]
  },
  {
   "cell_type": "markdown",
   "id": "f1e643f4",
   "metadata": {},
   "source": [
    "**Center, ljust, rjust** : It is used to justify a string."
   ]
  },
  {
   "cell_type": "code",
   "execution_count": 15,
   "id": "e1b455cb",
   "metadata": {},
   "outputs": [
    {
     "name": "stdout",
     "output_type": "stream",
     "text": [
      "            Fake it until you make it!            \n"
     ]
    }
   ],
   "source": [
    "var = \"Fake it until you make it!\"\n",
    "print(var.center(50))"
   ]
  },
  {
   "cell_type": "code",
   "execution_count": 18,
   "id": "d164888e",
   "metadata": {},
   "outputs": [
    {
     "data": {
      "text/plain": [
       "'************Fake it until you make it!************'"
      ]
     },
     "execution_count": 18,
     "metadata": {},
     "output_type": "execute_result"
    }
   ],
   "source": [
    "var.center(50,\"*\")"
   ]
  },
  {
   "cell_type": "code",
   "execution_count": 20,
   "id": "7ce59c5f",
   "metadata": {},
   "outputs": [
    {
     "data": {
      "text/plain": [
       "'Fake it until you make it!'"
      ]
     },
     "execution_count": 20,
     "metadata": {},
     "output_type": "execute_result"
    }
   ],
   "source": [
    "var.ljust(20,\"*\")"
   ]
  },
  {
   "cell_type": "code",
   "execution_count": 22,
   "id": "0c8f6fe2",
   "metadata": {},
   "outputs": [
    {
     "data": {
      "text/plain": [
       "'**************************************************************************Fake it until you make it!'"
      ]
     },
     "execution_count": 22,
     "metadata": {},
     "output_type": "execute_result"
    }
   ],
   "source": [
    "var.rjust(100,\"*\")"
   ]
  },
  {
   "cell_type": "code",
   "execution_count": 23,
   "id": "ef9e7679",
   "metadata": {},
   "outputs": [
    {
     "data": {
      "text/plain": [
       "'                                                                          Fake it until you make it!'"
      ]
     },
     "execution_count": 23,
     "metadata": {},
     "output_type": "execute_result"
    }
   ],
   "source": [
    "var.rjust(100)"
   ]
  },
  {
   "cell_type": "markdown",
   "id": "dbfa9169",
   "metadata": {},
   "source": [
    "**Startswith, endswith** : It is used to test a substring matching the start or end of a line. They can test multiple substrings at once if they are passed as a tuple."
   ]
  },
  {
   "cell_type": "code",
   "execution_count": 24,
   "id": "b27ab508",
   "metadata": {},
   "outputs": [],
   "source": [
    "var = \"apple\""
   ]
  },
  {
   "cell_type": "code",
   "execution_count": 26,
   "id": "620d3e22",
   "metadata": {},
   "outputs": [
    {
     "data": {
      "text/plain": [
       "True"
      ]
     },
     "execution_count": 26,
     "metadata": {},
     "output_type": "execute_result"
    }
   ],
   "source": [
    "var.startswith(\"a\")"
   ]
  },
  {
   "cell_type": "code",
   "execution_count": 28,
   "id": "a84b6f91",
   "metadata": {},
   "outputs": [
    {
     "data": {
      "text/plain": [
       "True"
      ]
     },
     "execution_count": 28,
     "metadata": {},
     "output_type": "execute_result"
    }
   ],
   "source": [
    "var.endswith(\"e\")"
   ]
  },
  {
   "cell_type": "markdown",
   "id": "5ed00ec7",
   "metadata": {},
   "source": [
    "**find, index, rfind** : These return the lowest index where the given substring is found. find returns -1 on failure whereas index raises a ValueError exception. \n",
    "rfind starts at the right-hand side and, therefore, returns the highest index where the substring is found."
   ]
  },
  {
   "cell_type": "code",
   "execution_count": 29,
   "id": "75b6ee57",
   "metadata": {},
   "outputs": [
    {
     "data": {
      "text/plain": [
       "1"
      ]
     },
     "execution_count": 29,
     "metadata": {},
     "output_type": "execute_result"
    }
   ],
   "source": [
    "var = \"apple\"\n",
    "var.find(\"pp\")   #exists"
   ]
  },
  {
   "cell_type": "code",
   "execution_count": 31,
   "id": "788b7187",
   "metadata": {},
   "outputs": [
    {
     "data": {
      "text/plain": [
       "-1"
      ]
     },
     "execution_count": 31,
     "metadata": {},
     "output_type": "execute_result"
    }
   ],
   "source": [
    "var.find(\"z\")     #doesnot exist"
   ]
  },
  {
   "cell_type": "code",
   "execution_count": 32,
   "id": "facfc6b6",
   "metadata": {},
   "outputs": [
    {
     "data": {
      "text/plain": [
       "2"
      ]
     },
     "execution_count": 32,
     "metadata": {},
     "output_type": "execute_result"
    }
   ],
   "source": [
    "var.index(\"pl\")  #index is the position number"
   ]
  },
  {
   "cell_type": "code",
   "execution_count": 33,
   "id": "3a8f67dc",
   "metadata": {},
   "outputs": [
    {
     "data": {
      "text/plain": [
       "3"
      ]
     },
     "execution_count": 33,
     "metadata": {},
     "output_type": "execute_result"
    }
   ],
   "source": [
    "var.rfind(\"le\")"
   ]
  },
  {
   "cell_type": "markdown",
   "id": "cdf2905c",
   "metadata": {},
   "source": [
    "**isalpha, isdigit, isalnum**: It is used to test the string content. Most common tests are for alphabetic, numeric, alphanumeric."
   ]
  },
  {
   "cell_type": "code",
   "execution_count": 43,
   "id": "a67fae92",
   "metadata": {},
   "outputs": [
    {
     "data": {
      "text/plain": [
       "True"
      ]
     },
     "execution_count": 43,
     "metadata": {},
     "output_type": "execute_result"
    }
   ],
   "source": [
    "var = \"Hello\"\n",
    "digit = \"123\"\n",
    "alp = \"H123\"\n",
    "\n",
    "\n",
    "var.isalpha()"
   ]
  },
  {
   "cell_type": "code",
   "execution_count": 44,
   "id": "953679a4",
   "metadata": {},
   "outputs": [
    {
     "data": {
      "text/plain": [
       "False"
      ]
     },
     "execution_count": 44,
     "metadata": {},
     "output_type": "execute_result"
    }
   ],
   "source": [
    "var.isdigit()"
   ]
  },
  {
   "cell_type": "code",
   "execution_count": 45,
   "id": "c8e1a1d1",
   "metadata": {},
   "outputs": [
    {
     "data": {
      "text/plain": [
       "True"
      ]
     },
     "execution_count": 45,
     "metadata": {},
     "output_type": "execute_result"
    }
   ],
   "source": [
    "digit.isdigit()"
   ]
  },
  {
   "cell_type": "code",
   "execution_count": 46,
   "id": "c6f352f5",
   "metadata": {},
   "outputs": [
    {
     "data": {
      "text/plain": [
       "True"
      ]
     },
     "execution_count": 46,
     "metadata": {},
     "output_type": "execute_result"
    }
   ],
   "source": [
    "alp.isalnum()"
   ]
  },
  {
   "cell_type": "markdown",
   "id": "ec1751e1",
   "metadata": {},
   "source": [
    "**join** : It is used to join a list of strings using the active string as a separator."
   ]
  },
  {
   "cell_type": "code",
   "execution_count": 54,
   "id": "f048570d",
   "metadata": {},
   "outputs": [
    {
     "data": {
      "text/plain": [
       "'apple - mango - orange - banana'"
      ]
     },
     "execution_count": 54,
     "metadata": {},
     "output_type": "execute_result"
    }
   ],
   "source": [
    "fruits = ['apple','mango','orange','banana']\n",
    "' - '.join(fruits)          #separator.join(list or string)"
   ]
  },
  {
   "cell_type": "markdown",
   "id": "f1cce81f",
   "metadata": {},
   "source": [
    "**split, splitlines, partition** : Split is used to split a string into a list of substrings based on a given separator.  Splitlines ( ) returns a list of lines, effectively splitting using the newline character. Partition ( ) splits a string based on the given separator, but only upto the first occurence; it then returns the first string, the separator, and the remaining string. "
   ]
  },
  {
   "cell_type": "code",
   "execution_count": 55,
   "id": "64aa1699",
   "metadata": {},
   "outputs": [
    {
     "data": {
      "text/plain": [
       "['apple', 'mango', 'orange', 'banana']"
      ]
     },
     "execution_count": 55,
     "metadata": {},
     "output_type": "execute_result"
    }
   ],
   "source": [
    "var = \"apple - mango - orange - banana\"\n",
    "var.split(\" - \")"
   ]
  },
  {
   "cell_type": "code",
   "execution_count": 57,
   "id": "67daa390",
   "metadata": {},
   "outputs": [
    {
     "data": {
      "text/plain": [
       "['apple ', ' mango ', ' orange ', ' banana']"
      ]
     },
     "execution_count": 57,
     "metadata": {},
     "output_type": "execute_result"
    }
   ],
   "source": [
    "var = \"apple \\n mango \\n orange \\n banana\"\n",
    "var.splitlines()         #by default, it splits using the newline character"
   ]
  },
  {
   "cell_type": "code",
   "execution_count": 59,
   "id": "c9d35720",
   "metadata": {},
   "outputs": [
    {
     "data": {
      "text/plain": [
       "('apple ', '-', ' mango - orange - banana')"
      ]
     },
     "execution_count": 59,
     "metadata": {},
     "output_type": "execute_result"
    }
   ],
   "source": [
    "var = \"apple - mango - orange - banana\"\n",
    "var.partition(\"-\")"
   ]
  },
  {
   "cell_type": "markdown",
   "id": "eb709995",
   "metadata": {},
   "source": [
    "**Strip, lstrip, rstrip** : These strips the whitespace or the specified characters from the ends of the string. **lstrip** only strips from the left side. **rstrip** strips from the right side. "
   ]
  },
  {
   "cell_type": "code",
   "execution_count": 60,
   "id": "6fdcf792",
   "metadata": {},
   "outputs": [
    {
     "data": {
      "text/plain": [
       "'apple'"
      ]
     },
     "execution_count": 60,
     "metadata": {},
     "output_type": "execute_result"
    }
   ],
   "source": [
    "var = \"    apple    \"\n",
    "var.strip()"
   ]
  },
  {
   "cell_type": "code",
   "execution_count": 61,
   "id": "85a78e84",
   "metadata": {},
   "outputs": [
    {
     "data": {
      "text/plain": [
       "'apple    '"
      ]
     },
     "execution_count": 61,
     "metadata": {},
     "output_type": "execute_result"
    }
   ],
   "source": [
    "var.lstrip()"
   ]
  },
  {
   "cell_type": "code",
   "execution_count": 62,
   "id": "6955639c",
   "metadata": {},
   "outputs": [
    {
     "data": {
      "text/plain": [
       "'    apple'"
      ]
     },
     "execution_count": 62,
     "metadata": {},
     "output_type": "execute_result"
    }
   ],
   "source": [
    "var.rstrip()"
   ]
  },
  {
   "cell_type": "code",
   "execution_count": 64,
   "id": "67a97d43",
   "metadata": {},
   "outputs": [
    {
     "data": {
      "text/plain": [
       "'+++app'"
      ]
     },
     "execution_count": 64,
     "metadata": {},
     "output_type": "execute_result"
    }
   ],
   "source": [
    "var = \"+++app+++\"\n",
    "var.rstrip(\"+\")"
   ]
  },
  {
   "cell_type": "markdown",
   "id": "4317df5d",
   "metadata": {},
   "source": [
    "**Replace** : This performs string replacement. By specifying an empty string as the replacement, it can be used to effectively delete characters."
   ]
  },
  {
   "cell_type": "code",
   "execution_count": 66,
   "id": "beae6cc4",
   "metadata": {},
   "outputs": [
    {
     "data": {
      "text/plain": [
       "'I hate apples.'"
      ]
     },
     "execution_count": 66,
     "metadata": {},
     "output_type": "execute_result"
    }
   ],
   "source": [
    "var = \"I love apples.\"\n",
    "var.replace(\"love\",\"hate\")"
   ]
  },
  {
   "cell_type": "markdown",
   "id": "4d4e4f78",
   "metadata": {},
   "source": [
    "**Format** : It is used for string formatting. "
   ]
  },
  {
   "cell_type": "code",
   "execution_count": 67,
   "id": "7cc87bd7",
   "metadata": {},
   "outputs": [
    {
     "data": {
      "text/plain": [
       "'I like apple'"
      ]
     },
     "execution_count": 67,
     "metadata": {},
     "output_type": "execute_result"
    }
   ],
   "source": [
    "text = \"I like {fruit_name}\".format(fruit_name=\"apple\")\n",
    "text"
   ]
  },
  {
   "cell_type": "code",
   "execution_count": 68,
   "id": "86924f8b",
   "metadata": {},
   "outputs": [
    {
     "data": {
      "text/plain": [
       "'I like apple and mango'"
      ]
     },
     "execution_count": 68,
     "metadata": {},
     "output_type": "execute_result"
    }
   ],
   "source": [
    "text = \"I like {0} and {1}\".format(\"apple\",\"mango\")   #0 and 1 are indexx numbers\n",
    "text"
   ]
  },
  {
   "cell_type": "code",
   "execution_count": 69,
   "id": "dab34437",
   "metadata": {},
   "outputs": [
    {
     "data": {
      "text/plain": [
       "'I like apple and mango'"
      ]
     },
     "execution_count": 69,
     "metadata": {},
     "output_type": "execute_result"
    }
   ],
   "source": [
    "text = \"I like {} and {}\".format(\"apple\",\"mango\")   #empty braces will follow the order of parameters\n",
    "text"
   ]
  },
  {
   "cell_type": "markdown",
   "id": "9075d68e",
   "metadata": {},
   "source": [
    "## Thank You!"
   ]
  },
  {
   "cell_type": "code",
   "execution_count": null,
   "id": "34ff4db2",
   "metadata": {},
   "outputs": [],
   "source": []
  }
 ],
 "metadata": {
  "kernelspec": {
   "display_name": "Python 3",
   "language": "python",
   "name": "python3"
  },
  "language_info": {
   "codemirror_mode": {
    "name": "ipython",
    "version": 3
   },
   "file_extension": ".py",
   "mimetype": "text/x-python",
   "name": "python",
   "nbconvert_exporter": "python",
   "pygments_lexer": "ipython3",
   "version": "3.8.8"
  }
 },
 "nbformat": 4,
 "nbformat_minor": 5
}
