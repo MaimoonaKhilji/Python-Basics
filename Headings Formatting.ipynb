{
 "cells": [
  {
   "cell_type": "markdown",
   "id": "448ce2f3",
   "metadata": {},
   "source": [
    "# Heading 1"
   ]
  },
  {
   "cell_type": "markdown",
   "id": "d23cba61",
   "metadata": {},
   "source": [
    "## Heading 2"
   ]
  },
  {
   "cell_type": "markdown",
   "id": "d56a7920",
   "metadata": {},
   "source": [
    "### Heading 3"
   ]
  },
  {
   "cell_type": "markdown",
   "id": "f4ff0b6f",
   "metadata": {},
   "source": [
    "#### Heading 4"
   ]
  },
  {
   "cell_type": "markdown",
   "id": "45c68191",
   "metadata": {},
   "source": [
    "##### Heading 5 Italics"
   ]
  },
  {
   "cell_type": "markdown",
   "id": "b09077b0",
   "metadata": {},
   "source": [
    "for **bold** letters use double steric \"**\""
   ]
  },
  {
   "cell_type": "markdown",
   "id": "c454147a",
   "metadata": {},
   "source": [
    "for writing in points with tab spaced. give a tab space to each line:\n",
    "\n",
    "    first line\n",
    "    second line..\n",
    "    the points will be in orange color\n"
   ]
  },
  {
   "cell_type": "code",
   "execution_count": 1,
   "id": "c9cd09b2",
   "metadata": {},
   "outputs": [],
   "source": [
    "# for comments use # "
   ]
  },
  {
   "cell_type": "markdown",
   "id": "d2f2c45e",
   "metadata": {},
   "source": [
    "## Thank You!"
   ]
  },
  {
   "cell_type": "code",
   "execution_count": null,
   "id": "c03b92b2",
   "metadata": {},
   "outputs": [],
   "source": []
  }
 ],
 "metadata": {
  "kernelspec": {
   "display_name": "Python 3",
   "language": "python",
   "name": "python3"
  },
  "language_info": {
   "codemirror_mode": {
    "name": "ipython",
    "version": 3
   },
   "file_extension": ".py",
   "mimetype": "text/x-python",
   "name": "python",
   "nbconvert_exporter": "python",
   "pygments_lexer": "ipython3",
   "version": "3.8.8"
  }
 },
 "nbformat": 4,
 "nbformat_minor": 5
}
