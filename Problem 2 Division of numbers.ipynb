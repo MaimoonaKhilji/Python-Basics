{
 "cells": [
  {
   "cell_type": "markdown",
   "id": "87778daa",
   "metadata": {},
   "source": [
    "### Write a code that will take two numbers a and b as input from user. The program will only divide a from by b only if b is not equal to zero"
   ]
  },
  {
   "cell_type": "code",
   "execution_count": 5,
   "id": "1ec3e220",
   "metadata": {},
   "outputs": [
    {
     "name": "stdout",
     "output_type": "stream",
     "text": [
      "Enter value of a: 10\n",
      "Enter value of b: 5\n",
      "10 / 5  =  2.0\n"
     ]
    }
   ],
   "source": [
    "# First, Take two numbers as input from user\n",
    "\n",
    "a = int(input (\"Enter value of a: \"))\n",
    "b = int(input (\"Enter value of b: \"))\n",
    "\n",
    "\n",
    "#Condition: divide only if b is not equal to zero\n",
    "\n",
    "if  b != 0:\n",
    "    result = a / b\n",
    "    print(a, \"/\",b,\" = \",result)\n",
    "else:\n",
    "    print(a,\"/\",b,\" is not possible because b is zero\")"
   ]
  },
  {
   "cell_type": "markdown",
   "id": "636d3820",
   "metadata": {},
   "source": [
    "## Thank you!"
   ]
  },
  {
   "cell_type": "code",
   "execution_count": null,
   "id": "074d91b7",
   "metadata": {},
   "outputs": [],
   "source": []
  }
 ],
 "metadata": {
  "kernelspec": {
   "display_name": "Python 3",
   "language": "python",
   "name": "python3"
  },
  "language_info": {
   "codemirror_mode": {
    "name": "ipython",
    "version": 3
   },
   "file_extension": ".py",
   "mimetype": "text/x-python",
   "name": "python",
   "nbconvert_exporter": "python",
   "pygments_lexer": "ipython3",
   "version": "3.8.8"
  }
 },
 "nbformat": 4,
 "nbformat_minor": 5
}
