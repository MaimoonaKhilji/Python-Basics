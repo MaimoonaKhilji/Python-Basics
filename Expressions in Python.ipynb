{
 "cells": [
  {
   "cell_type": "markdown",
   "id": "7b2d49b0",
   "metadata": {},
   "source": [
    "An **Expression** is a combination of values, variables, operators and calls to function.\n",
    "\n",
    "    - Expression needs to be evaluated.\n",
    "    - If you ask Python to print an expression, the interpreter evaluates the expression and displays the result.\n",
    "    - When executing assignments, python evaluates the right hand side first and then assigns those values to the variables specified in the left hand side."
   ]
  },
  {
   "cell_type": "code",
   "execution_count": 1,
   "id": "92128130",
   "metadata": {},
   "outputs": [],
   "source": [
    "#Expressions \n",
    "\n",
    "Expression = 2 * 3 + 1\n",
    "\n",
    "#it is a combination of numbers or values and operators"
   ]
  },
  {
   "cell_type": "code",
   "execution_count": 2,
   "id": "e0068019",
   "metadata": {},
   "outputs": [
    {
     "name": "stdout",
     "output_type": "stream",
     "text": [
      "7\n"
     ]
    }
   ],
   "source": [
    "print(Expression)"
   ]
  },
  {
   "cell_type": "code",
   "execution_count": 3,
   "id": "e2db01ff",
   "metadata": {},
   "outputs": [
    {
     "name": "stdout",
     "output_type": "stream",
     "text": [
      "25\n"
     ]
    }
   ],
   "source": [
    "#Find area of a square\n",
    "#we can find the area by multiplying length and width of a square.\n",
    "length = 5\n",
    "width = 5\n",
    "\n",
    "# As this is square so all the sides will be equal.\n",
    "\n",
    "area = length * width\n",
    "\n",
    "print(area)\n"
   ]
  },
  {
   "cell_type": "code",
   "execution_count": 4,
   "id": "a83fd821",
   "metadata": {},
   "outputs": [
    {
     "name": "stdout",
     "output_type": "stream",
     "text": [
      "78.5\n"
     ]
    }
   ],
   "source": [
    "# find area of a circle\n",
    "\n",
    "radius = 5 \n",
    "# formula of area of circle = pi * r ^2 \n",
    "# pi = 3.14\n",
    "# exponention symbol is **\n",
    "\n",
    "area = 3.14 * radius **2\n",
    "print(area)\n"
   ]
  },
  {
   "cell_type": "markdown",
   "id": "0d62707a",
   "metadata": {},
   "source": [
    "## Thank You!"
   ]
  },
  {
   "cell_type": "code",
   "execution_count": null,
   "id": "8eebabba",
   "metadata": {},
   "outputs": [],
   "source": []
  }
 ],
 "metadata": {
  "kernelspec": {
   "display_name": "Python 3",
   "language": "python",
   "name": "python3"
  },
  "language_info": {
   "codemirror_mode": {
    "name": "ipython",
    "version": 3
   },
   "file_extension": ".py",
   "mimetype": "text/x-python",
   "name": "python",
   "nbconvert_exporter": "python",
   "pygments_lexer": "ipython3",
   "version": "3.8.8"
  }
 },
 "nbformat": 4,
 "nbformat_minor": 5
}
