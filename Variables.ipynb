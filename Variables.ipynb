{
 "cells": [
  {
   "cell_type": "markdown",
   "id": "ea022495",
   "metadata": {},
   "source": [
    "## Variables\n",
    "\n",
    "    Variables are the building blocks of programming.\n",
    "    It is used to associaate a name to a value.\n",
    "    This association process is known as Assignment.\n",
    "    This association name is known as Variable.\n",
    "\n",
    "**Variables is like a container that is used to store a value.**"
   ]
  },
  {
   "cell_type": "code",
   "execution_count": 1,
   "id": "b769066c",
   "metadata": {},
   "outputs": [],
   "source": [
    "# How to creates Variable?\n",
    "#step-1 Think of a name\n",
    "#Let's say \"container\"\n",
    "\n",
    "# Step-2 Put the value in variable by writing it after equal sign.\n",
    "#let's say \"4\"\n",
    "\n",
    "container = 4\n"
   ]
  },
  {
   "cell_type": "code",
   "execution_count": 2,
   "id": "3de75c8b",
   "metadata": {},
   "outputs": [
    {
     "name": "stdout",
     "output_type": "stream",
     "text": [
      "4\n"
     ]
    }
   ],
   "source": [
    "print(container)"
   ]
  },
  {
   "cell_type": "markdown",
   "id": "8217a4af",
   "metadata": {},
   "source": [
    "In python, we can dynamically change the variables' value "
   ]
  },
  {
   "cell_type": "code",
   "execution_count": 4,
   "id": "18018c73",
   "metadata": {},
   "outputs": [],
   "source": [
    "container = \"name\""
   ]
  },
  {
   "cell_type": "code",
   "execution_count": 5,
   "id": "4727a3cb",
   "metadata": {},
   "outputs": [
    {
     "name": "stdout",
     "output_type": "stream",
     "text": [
      "name\n"
     ]
    }
   ],
   "source": [
    "print(container)"
   ]
  },
  {
   "cell_type": "code",
   "execution_count": 6,
   "id": "c4097295",
   "metadata": {},
   "outputs": [
    {
     "ename": "NameError",
     "evalue": "name 'foo' is not defined",
     "output_type": "error",
     "traceback": [
      "\u001b[1;31m---------------------------------------------------------------------------\u001b[0m",
      "\u001b[1;31mNameError\u001b[0m                                 Traceback (most recent call last)",
      "\u001b[1;32m<ipython-input-6-f1d2d2f924e9>\u001b[0m in \u001b[0;36m<module>\u001b[1;34m\u001b[0m\n\u001b[1;32m----> 1\u001b[1;33m \u001b[0mfoo\u001b[0m\u001b[1;33m\u001b[0m\u001b[1;33m\u001b[0m\u001b[0m\n\u001b[0m",
      "\u001b[1;31mNameError\u001b[0m: name 'foo' is not defined"
     ]
    }
   ],
   "source": [
    "foo"
   ]
  },
  {
   "cell_type": "markdown",
   "id": "f7bea8ba",
   "metadata": {},
   "source": [
    "it gives error by printing the \"foo\" because we did not initialize this variable before."
   ]
  },
  {
   "cell_type": "code",
   "execution_count": 7,
   "id": "5ffad511",
   "metadata": {},
   "outputs": [],
   "source": [
    "#lets initialize foo\n",
    "\n",
    "foo=5"
   ]
  },
  {
   "cell_type": "code",
   "execution_count": 8,
   "id": "e072b03f",
   "metadata": {},
   "outputs": [
    {
     "data": {
      "text/plain": [
       "5"
      ]
     },
     "execution_count": 8,
     "metadata": {},
     "output_type": "execute_result"
    }
   ],
   "source": [
    "foo"
   ]
  },
  {
   "cell_type": "markdown",
   "id": "d9d624d9",
   "metadata": {},
   "source": [
    "we can store any type of data in a variable"
   ]
  },
  {
   "cell_type": "code",
   "execution_count": 9,
   "id": "52ca832c",
   "metadata": {},
   "outputs": [
    {
     "name": "stdout",
     "output_type": "stream",
     "text": [
      "5\n"
     ]
    }
   ],
   "source": [
    "#integer\n",
    "\n",
    "number = 5\n",
    "print(number)"
   ]
  },
  {
   "cell_type": "code",
   "execution_count": 10,
   "id": "7b1bb499",
   "metadata": {},
   "outputs": [
    {
     "name": "stdout",
     "output_type": "stream",
     "text": [
      "John\n"
     ]
    }
   ],
   "source": [
    "#string\n",
    "\n",
    "name=\"John\"\n",
    "print(name)"
   ]
  },
  {
   "cell_type": "code",
   "execution_count": 11,
   "id": "5e7b95a0",
   "metadata": {},
   "outputs": [
    {
     "name": "stdout",
     "output_type": "stream",
     "text": [
      "5.6\n"
     ]
    }
   ],
   "source": [
    "#decimel\n",
    "\n",
    "weight = 5.6\n",
    "print(weight)"
   ]
  },
  {
   "cell_type": "code",
   "execution_count": 12,
   "id": "bd99d55a",
   "metadata": {},
   "outputs": [
    {
     "name": "stdout",
     "output_type": "stream",
     "text": [
      "['a', 'b', 5]\n"
     ]
    }
   ],
   "source": [
    "#list \n",
    "\n",
    "container=[\"a\",\"b\",5]\n",
    "print(container)"
   ]
  },
  {
   "cell_type": "markdown",
   "id": "7abb9fc6",
   "metadata": {},
   "source": [
    "We can swap the values of two variables."
   ]
  },
  {
   "cell_type": "code",
   "execution_count": 13,
   "id": "bfaa18c7",
   "metadata": {},
   "outputs": [],
   "source": [
    "a , b = 5, 8\n"
   ]
  },
  {
   "cell_type": "code",
   "execution_count": 14,
   "id": "e4e07517",
   "metadata": {},
   "outputs": [
    {
     "name": "stdout",
     "output_type": "stream",
     "text": [
      "5   8\n"
     ]
    }
   ],
   "source": [
    "print(a,\" \",b)"
   ]
  },
  {
   "cell_type": "code",
   "execution_count": 15,
   "id": "023eb191",
   "metadata": {},
   "outputs": [
    {
     "name": "stdout",
     "output_type": "stream",
     "text": [
      "8   5\n"
     ]
    }
   ],
   "source": [
    "#Lets swap the values\n",
    "\n",
    "b, a = a , b\n",
    "\n",
    "print(a, \" \",b)"
   ]
  },
  {
   "cell_type": "code",
   "execution_count": null,
   "id": "d2426a79",
   "metadata": {},
   "outputs": [],
   "source": []
  }
 ],
 "metadata": {
  "kernelspec": {
   "display_name": "Python 3",
   "language": "python",
   "name": "python3"
  },
  "language_info": {
   "codemirror_mode": {
    "name": "ipython",
    "version": 3
   },
   "file_extension": ".py",
   "mimetype": "text/x-python",
   "name": "python",
   "nbconvert_exporter": "python",
   "pygments_lexer": "ipython3",
   "version": "3.8.8"
  }
 },
 "nbformat": 4,
 "nbformat_minor": 5
}
