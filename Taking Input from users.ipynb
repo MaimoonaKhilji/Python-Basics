{
 "cells": [
  {
   "cell_type": "markdown",
   "id": "8a86526f",
   "metadata": {},
   "source": [
    "Uptil now, we statically assigned th values to variables. In this video, we will take input from the user.\n",
    "In order to take input from user, we will use **input( )** function."
   ]
  },
  {
   "cell_type": "code",
   "execution_count": 1,
   "id": "590387e3",
   "metadata": {},
   "outputs": [
    {
     "name": "stdout",
     "output_type": "stream",
     "text": [
      "Enter your age: 15\n"
     ]
    }
   ],
   "source": [
    "# ask user to enter his age\n",
    "\n",
    "Age = input(\"Enter your age: \")"
   ]
  },
  {
   "cell_type": "markdown",
   "id": "92f9cf73",
   "metadata": {},
   "source": [
    "    in this example \n",
    "    Age = input(\"Enter your age: \")\n",
    "    \"Enter  your age: \" is a prompt message. Prompt message is a choice not a mandatory part of input function.\n",
    "    we can take input without prompt or message."
   ]
  },
  {
   "cell_type": "code",
   "execution_count": 2,
   "id": "a0081782",
   "metadata": {},
   "outputs": [
    {
     "name": "stdout",
     "output_type": "stream",
     "text": [
      "20\n"
     ]
    }
   ],
   "source": [
    "Age = input()"
   ]
  },
  {
   "cell_type": "markdown",
   "id": "bf4a0cad",
   "metadata": {},
   "source": [
    "When we call input function as **input ( )**, flow of the program stopped until the user enters the input."
   ]
  },
  {
   "cell_type": "code",
   "execution_count": 3,
   "id": "9f43a888",
   "metadata": {},
   "outputs": [
    {
     "name": "stdout",
     "output_type": "stream",
     "text": [
      "Enter num: 30\n"
     ]
    }
   ],
   "source": [
    "#Note the time # Here I will enter the input after 1  minute.\n",
    "\n",
    "num = input(\"Enter num: \")"
   ]
  },
  {
   "cell_type": "code",
   "execution_count": null,
   "id": "3b99b400",
   "metadata": {},
   "outputs": [],
   "source": [
    "# The star shows that this specific command is still in execution process."
   ]
  },
  {
   "cell_type": "markdown",
   "id": "b24f6f6c",
   "metadata": {},
   "source": [
    "Input() functions automatically converts the type of a value to string.. whether you enter number or string the type will be string."
   ]
  },
  {
   "cell_type": "code",
   "execution_count": 4,
   "id": "62e8f63d",
   "metadata": {},
   "outputs": [
    {
     "name": "stdout",
     "output_type": "stream",
     "text": [
      "Enter num: 3\n",
      "Type of num is  <class 'str'>\n"
     ]
    }
   ],
   "source": [
    "#check the type of input value\n",
    "\n",
    "num =input (\"Enter num: \")\n",
    "\n",
    "print(\"Type of num is \", type(num))"
   ]
  },
  {
   "cell_type": "code",
   "execution_count": 5,
   "id": "11bb1454",
   "metadata": {},
   "outputs": [
    {
     "name": "stdout",
     "output_type": "stream",
     "text": [
      "enter alphabet: a\n",
      "Type of string is  <class 'str'>\n"
     ]
    }
   ],
   "source": [
    "string = input(\"enter alphabet: \")\n",
    "\n",
    "print(\"Type of string is \", type(string))"
   ]
  },
  {
   "cell_type": "code",
   "execution_count": 6,
   "id": "d94f8816",
   "metadata": {},
   "outputs": [
    {
     "name": "stdout",
     "output_type": "stream",
     "text": [
      "Enter num: 5\n",
      "before type-casting, Type of num is  <class 'str'>\n",
      "after type-casting, Type of num is  <class 'int'>\n"
     ]
    }
   ],
   "source": [
    "#in order to change the type of input value, you have to do typecasting.\n",
    "\n",
    "num =input (\"Enter num: \")\n",
    "\n",
    "print(\"before type-casting, Type of num is \", type(num))\n",
    "\n",
    "num = int(num)\n",
    "\n",
    "\n",
    "print(\"after type-casting, Type of num is \", type(num))\n",
    "\n"
   ]
  },
  {
   "cell_type": "markdown",
   "id": "a94680bc",
   "metadata": {},
   "source": [
    "## Thank You!"
   ]
  },
  {
   "cell_type": "code",
   "execution_count": null,
   "id": "972c6200",
   "metadata": {},
   "outputs": [],
   "source": []
  }
 ],
 "metadata": {
  "kernelspec": {
   "display_name": "Python 3",
   "language": "python",
   "name": "python3"
  },
  "language_info": {
   "codemirror_mode": {
    "name": "ipython",
    "version": 3
   },
   "file_extension": ".py",
   "mimetype": "text/x-python",
   "name": "python",
   "nbconvert_exporter": "python",
   "pygments_lexer": "ipython3",
   "version": "3.8.8"
  }
 },
 "nbformat": 4,
 "nbformat_minor": 5
}
