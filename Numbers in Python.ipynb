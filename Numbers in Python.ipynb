{
 "cells": [
  {
   "cell_type": "markdown",
   "id": "2de61e74",
   "metadata": {},
   "source": [
    "We already know how to work with **numbers**. Numbers can be of different types. FOr example: Integer, Float "
   ]
  },
  {
   "cell_type": "code",
   "execution_count": 1,
   "id": "26b7d434",
   "metadata": {},
   "outputs": [
    {
     "data": {
      "text/plain": [
       "42"
      ]
     },
     "execution_count": 1,
     "metadata": {},
     "output_type": "execute_result"
    }
   ],
   "source": [
    "42"
   ]
  },
  {
   "cell_type": "code",
   "execution_count": 2,
   "id": "f9fb96f9",
   "metadata": {},
   "outputs": [
    {
     "data": {
      "text/plain": [
       "4.3"
      ]
     },
     "execution_count": 2,
     "metadata": {},
     "output_type": "execute_result"
    }
   ],
   "source": [
    "4.3"
   ]
  },
  {
   "cell_type": "code",
   "execution_count": 3,
   "id": "0e023ba5",
   "metadata": {},
   "outputs": [
    {
     "data": {
      "text/plain": [
       "int"
      ]
     },
     "execution_count": 3,
     "metadata": {},
     "output_type": "execute_result"
    }
   ],
   "source": [
    "#create a variable to store integer and then checks its type\n",
    "\n",
    "num = 4\n",
    "type(num)"
   ]
  },
  {
   "cell_type": "code",
   "execution_count": 4,
   "id": "a4367846",
   "metadata": {},
   "outputs": [
    {
     "data": {
      "text/plain": [
       "float"
      ]
     },
     "execution_count": 4,
     "metadata": {},
     "output_type": "execute_result"
    }
   ],
   "source": [
    "num = 4.3\n",
    "type(num)"
   ]
  },
  {
   "cell_type": "markdown",
   "id": "84d7dec2",
   "metadata": {},
   "source": [
    "We can do different operations on numbers in Python"
   ]
  },
  {
   "cell_type": "code",
   "execution_count": 6,
   "id": "13de7e75",
   "metadata": {},
   "outputs": [
    {
     "data": {
      "text/plain": [
       "5"
      ]
     },
     "execution_count": 6,
     "metadata": {},
     "output_type": "execute_result"
    }
   ],
   "source": [
    "# Addition\n",
    "\n",
    "2 + 3"
   ]
  },
  {
   "cell_type": "code",
   "execution_count": 7,
   "id": "483d0e69",
   "metadata": {},
   "outputs": [
    {
     "data": {
      "text/plain": [
       "2"
      ]
     },
     "execution_count": 7,
     "metadata": {},
     "output_type": "execute_result"
    }
   ],
   "source": [
    "#Subtraction\n",
    "\n",
    "4 - 2"
   ]
  },
  {
   "cell_type": "code",
   "execution_count": 8,
   "id": "ffbb4511",
   "metadata": {},
   "outputs": [
    {
     "data": {
      "text/plain": [
       "4"
      ]
     },
     "execution_count": 8,
     "metadata": {},
     "output_type": "execute_result"
    }
   ],
   "source": [
    "#multiplication\n",
    "\n",
    "2 * 2"
   ]
  },
  {
   "cell_type": "code",
   "execution_count": 9,
   "id": "2888f2cd",
   "metadata": {},
   "outputs": [
    {
     "data": {
      "text/plain": [
       "2.0"
      ]
     },
     "execution_count": 9,
     "metadata": {},
     "output_type": "execute_result"
    }
   ],
   "source": [
    "# division\n",
    "\n",
    "4 / 2"
   ]
  },
  {
   "cell_type": "code",
   "execution_count": 10,
   "id": "4ffed617",
   "metadata": {},
   "outputs": [
    {
     "data": {
      "text/plain": [
       "2"
      ]
     },
     "execution_count": 10,
     "metadata": {},
     "output_type": "execute_result"
    }
   ],
   "source": [
    "# integer division\n",
    "\n",
    "4 // 2"
   ]
  },
  {
   "cell_type": "markdown",
   "id": "45fcb356",
   "metadata": {},
   "source": [
    " '/' single slash is used to give answer in float number while '//'  double slash is used to give answer in integer"
   ]
  },
  {
   "cell_type": "code",
   "execution_count": 11,
   "id": "87994d3e",
   "metadata": {},
   "outputs": [
    {
     "data": {
      "text/plain": [
       "8"
      ]
     },
     "execution_count": 11,
     "metadata": {},
     "output_type": "execute_result"
    }
   ],
   "source": [
    "# exponential\n",
    "\n",
    "2 ** 3"
   ]
  },
  {
   "cell_type": "markdown",
   "id": "fa1b071c",
   "metadata": {},
   "source": [
    "2 ** 3 = 2 * 2 * 2 = 8"
   ]
  },
  {
   "cell_type": "markdown",
   "id": "5cc71a2b",
   "metadata": {},
   "source": [
    "we can combine the operators and can do different complex calculations"
   ]
  },
  {
   "cell_type": "code",
   "execution_count": 12,
   "id": "25b4041e",
   "metadata": {},
   "outputs": [
    {
     "data": {
      "text/plain": [
       "7"
      ]
     },
     "execution_count": 12,
     "metadata": {},
     "output_type": "execute_result"
    }
   ],
   "source": [
    "3 * 2 + 1"
   ]
  },
  {
   "cell_type": "code",
   "execution_count": 13,
   "id": "2abb4161",
   "metadata": {},
   "outputs": [
    {
     "data": {
      "text/plain": [
       "20"
      ]
     },
     "execution_count": 13,
     "metadata": {},
     "output_type": "execute_result"
    }
   ],
   "source": [
    "( 2 + 3) * 4"
   ]
  },
  {
   "cell_type": "markdown",
   "id": "efbd014a",
   "metadata": {},
   "source": [
    "All the opeartors except ** are left-association. that means the application of the operators starts from left to right.\n",
    "\n",
    "    in above example \n",
    "    step - 1: solve parenthesis ( 2 + 3 ) = 5\n",
    "    step - 2: Now multiply 5 with 4, as 5 * 4 = 20 \n",
    "\n",
    "        so answer is 20\n"
   ]
  },
  {
   "cell_type": "markdown",
   "id": "133e18db",
   "metadata": {},
   "source": [
    "## Thank You!\n",
    "\n",
    "If you have any query, then don't forget to comment here. :)"
   ]
  },
  {
   "cell_type": "code",
   "execution_count": null,
   "id": "16fbde76",
   "metadata": {},
   "outputs": [],
   "source": []
  }
 ],
 "metadata": {
  "kernelspec": {
   "display_name": "Python 3",
   "language": "python",
   "name": "python3"
  },
  "language_info": {
   "codemirror_mode": {
    "name": "ipython",
    "version": 3
   },
   "file_extension": ".py",
   "mimetype": "text/x-python",
   "name": "python",
   "nbconvert_exporter": "python",
   "pygments_lexer": "ipython3",
   "version": "3.8.8"
  }
 },
 "nbformat": 4,
 "nbformat_minor": 5
}
